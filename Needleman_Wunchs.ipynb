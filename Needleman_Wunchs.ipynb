{
  "nbformat": 4,
  "nbformat_minor": 0,
  "metadata": {
    "colab": {
      "name": "Needleman-Wunchs.ipynb",
      "version": "0.3.2",
      "provenance": [],
      "collapsed_sections": []
    },
    "kernelspec": {
      "name": "python3",
      "display_name": "Python 3"
    },
    "accelerator": "GPU"
  },
  "cells": [
    {
      "metadata": {
        "id": "hzvCWj2_R_CW",
        "colab_type": "code",
        "colab": {}
      },
      "cell_type": "code",
      "source": [
        "import numpy as np\n",
        "import random"
      ],
      "execution_count": 0,
      "outputs": []
    },
    {
      "metadata": {
        "id": "39WrVrEuSos2",
        "colab_type": "code",
        "colab": {}
      },
      "cell_type": "code",
      "source": [
        "MISMATCH = -6;\n",
        "GAP      = -6;\n",
        "BLOSUM62={'C':{'C':9,'S':-1,'T':-1,'P':-3,'A':0,'G':-3,'N':-3,'D':-3,'E':-4,'Q':-3,'H':-3,'R':-3,'K':-3,'M':-1,'I':-1,'L':-1,'V':-1,'F':-2,'Y':-2,'W':-2},\n",
        "\t\t\t\t\t'S':{'C':-1,'S':4,'T':1,'P':-1,'A':1,'G':0,'N':1,'D':0,'E':0,'Q':0,'H':-1,'R':-1,'K':0,'M':-1,'I':-2,'L':-2,'V':-2,'F':-2,'Y':-2,'W':-3},\n",
        "\t\t\t\t\t'T':{'C':-1,'S':1,'T':4,'P':1,'A':-1,'G':1,'N':0,'D':1,'E':0,'Q':0,'H':0,'R':-1,'K':0,'M':-1,'I':-2,'L':-2,'V':-2,'F':-2,'Y':-2,'W':-3},\n",
        "\t\t\t\t\t'P':{'C':-3,'S':-1,'T':1,'P':7,'A':-1,'G':-2,'N':-1,'D':-1,'E':-1,'Q':-1,'H':-2,'R':-2,'K':-1,'M':-2,'I':-3,'L':-3,'V':-2,'F':-4,'Y':-3,'W':-4},\n",
        "\t\t\t\t\t'A':{'C':0,'S':1,'T':-1,'P':-1,'A':4,'G':0,'N':-1,'D':-2,'E':-1,'Q':-1,'H':-2,'R':-1,'K':-1,'M':-1,'I':-1,'L':-1,'V':-2,'F':-2,'Y':-2,'W':-3},\n",
        "\t\t\t\t\t'G':{'C':-3,'S':0,'T':1,'P':-2,'A':0,'G':6,'N':-2,'D':-1,'E':-2,'Q':-2,'H':-2,'R':-2,'K':-2,'M':-3,'I':-4,'L':-4,'V':0,'F':-3,'Y':-3,'W':-2},\n",
        "\t\t\t\t\t'N':{'C':-3,'S':1,'T':0,'P':-2,'A':-2,'G':0,'N':6,'D':1,'E':0,'Q':0,'H':-1,'R':0,'K':0,'M':-2,'I':-3,'L':-3,'V':-3,'F':-3,'Y':-2,'W':-4},\n",
        "\t\t\t\t\t'D':{'C':-3,'S':0,'T':1,'P':-1,'A':-2,'G':-1,'N':1,'D':6,'E':2,'Q':0,'H':-1,'R':-2,'K':-1,'M':-3,'I':-3,'L':-4,'V':-3,'F':-3,'Y':-3,'W':-4},\n",
        "\t\t\t\t\t'E':{'C':-4,'S':0,'T':0,'P':-1,'A':-1,'G':-2,'N':0,'D':2,'E':5,'Q':2,'H':0,'R':0,'K':1,'M':-2,'I':-3,'L':-3,'V':-3,'F':-3,'Y':-2,'W':-3},\n",
        "\t\t\t\t\t'Q':{'C':-3,'S':0,'T':0,'P':-1,'A':-1,'G':-2,'N':0,'D':0,'E':2,'Q':5,'H':0,'R':1,'K':1,'M':0,'I':-3,'L':-2,'V':-2,'F':-3,'Y':-1,'W':-2},\n",
        "\t\t\t\t\t'H':{'C':-3,'S':-1,'T':0,'P':-2,'A':-2,'G':-2,'N':1,'D':1,'E':0,'Q':0,'H':8,'R':0,'K':-1,'M':-2,'I':-3,'L':-3,'V':-2,'F':-1,'Y':2,'W':-2},\n",
        "\t\t\t\t\t'R':{'C':-3,'S':-1,'T':-1,'P':-2,'A':-1,'G':-2,'N':0,'D':-2,'E':0,'Q':1,'H':0,'R':5,'K':2,'M':-1,'I':-3,'L':-2,'V':-3,'F':-3,'Y':-2,'W':-3},\n",
        "\t\t\t\t\t'K':{'C':-3,'S':0,'T':0,'P':-1,'A':-1,'G':-2,'N':0,'D':-1,'E':1,'Q':1,'H':-1,'R':2,'K':5,'M':-1,'I':-3,'L':-2,'V':-3,'F':-3,'Y':-2,'W':-3},\n",
        "\t\t\t\t\t'M':{'C':-1,'S':-1,'T':-1,'P':-2,'A':-1,'G':-3,'N':-2,'D':-3,'E':-2,'Q':0,'H':-2,'R':-1,'K':-1,'M':5,'I':1,'L':2,'V':-2,'F':0,'Y':-1,'W':-1},\n",
        "\t\t\t\t\t'I':{'C':-1,'S':-2,'T':-2,'P':-3,'A':-1,'G':-4,'N':-3,'D':-3,'E':-3,'Q':-3,'H':-3,'R':-3,'K':-3,'M':1,'I':4,'L':2,'V':1,'F':0,'Y':-1,'W':-3},\n",
        "\t\t\t\t\t'L':{'C':-1,'S':-2,'T':-2,'P':-3,'A':-1,'G':-4,'N':-3,'D':-4,'E':-3,'Q':-2,'H':-3,'R':-2,'K':-2,'M':2,'I':2,'L':4,'V':3,'F':0,'Y':-1,'W':-2},\n",
        "\t\t\t\t\t'V':{'C':-1,'S':-2,'T':-2,'P':-2,'A':0,'G':-3,'N':-3,'D':-3,'E':-2,'Q':-2,'H':-3,'R':-3,'K':-2,'M':1,'I':3,'L':1,'V':4,'F':-1,'Y':-1,'W':-3},\n",
        "\t\t\t\t\t'F':{'C':-2,'S':-2,'T':-2,'P':-4,'A':-2,'G':-3,'N':-3,'D':-3,'E':-3,'Q':-3,'H':-1,'R':-3,'K':-3,'M':0,'I':0,'L':0,'V':-1,'F':6,'Y':3,'W':1},\n",
        "\t\t\t\t\t'Y':{'C':-2,'S':-2,'T':-2,'P':-3,'A':-2,'G':-3,'N':-2,'D':-3,'E':-2,'Q':-1,'H':2,'R':-2,'K':-2,'M':-1,'I':-1,'L':-1,'V':-1,'F':3,'Y':7,'W':2},\n",
        "\t\t\t\t\t'W':{'C':-2,'S':-3,'T':-3,'P':-4,'A':-3,'G':-2,'N':-4,'D':-4,'E':-3,'Q':-2,'H':-2,'R':-3,'K':-3,'M':-1,'I':-3,'L':-2,'V':-3,'F':1,'Y':2,'W':11}\n",
        "\t\t\t\t\t}\n"
      ],
      "execution_count": 0,
      "outputs": []
    },
    {
      "metadata": {
        "id": "gKW4OOl6Sweb",
        "colab_type": "code",
        "colab": {}
      },
      "cell_type": "code",
      "source": [
        "def random_AA_seq(length):\n",
        "\t\tresult='M'\n",
        "\t\tfor i in range(length-1):\n",
        "\t\t\t\tresult = result+str(random.choice('ACDEFGHIKLMNPQRSTVWY'))\n",
        "\t\treturn result"
      ],
      "execution_count": 0,
      "outputs": []
    },
    {
      "metadata": {
        "id": "wNkJKpWuSzwr",
        "colab_type": "code",
        "colab": {}
      },
      "cell_type": "code",
      "source": [
        "x_ax=[]"
      ],
      "execution_count": 0,
      "outputs": []
    },
    {
      "metadata": {
        "id": "bmuOgFrZTLP5",
        "colab_type": "code",
        "colab": {}
      },
      "cell_type": "code",
      "source": [
        "number_of_aligments = 1\n",
        "length = 10"
      ],
      "execution_count": 0,
      "outputs": []
    },
    {
      "metadata": {
        "id": "qe7dno5xS3aA",
        "colab_type": "code",
        "colab": {
          "base_uri": "https://localhost:8080/",
          "height": 695
        },
        "outputId": "77a9d7d0-4573-4f97-e629-e06695ffd083"
      },
      "cell_type": "code",
      "source": [
        "for i in range(0, number_of_aligments): # 1 adalah banyaknya pasangan\n",
        "# \t\tsequence1 = random_AA_seq(length)\n",
        "# \t\tsequence2 = random_AA_seq(length)\n",
        "\t\tsequence1 = \"NALWVAYMA\"\n",
        "\t\tsequence2 = \"QALVAYA\"\n",
        "\t\t \n",
        "\t\tprint (\"Alignment:\",i+1)\n",
        "\t\tprint (sequence1)\n",
        "\t\tprint (sequence2 + '\\n')\n",
        "\t\t#initialisation\n",
        "\t\tscore_matrix = np.zeros([len(sequence2)+1,len(sequence1)+1])\n",
        "\t\ttrace_matrix = np.zeros([len(sequence2)+1,len(sequence1)+1],dtype=str)\n",
        "\t\t#extension penalty\n",
        "\t\tfor j in range(0,len(sequence1)+1):\n",
        "\t\t\t\tscore_matrix[0][j] = GAP*j\n",
        "\t\t\t\ttrace_matrix[0][j] = \"L\"\n",
        "\t\tfor i in range(0,len(sequence2)+1):\n",
        "\t\t\t\tscore_matrix[i][0] = GAP*i\n",
        "\t\t\t\ttrace_matrix[i][0] = \"U\"\n",
        "\t\tscore_matrix[0][0] = 0\n",
        "\t\ttrace_matrix[0][0] = \"N\"\n",
        "\t\tprint (\"Alignment Needleman-Wunsch...\",end=\" \")\n",
        "\t\tfor i in range(1,len(sequence2)+1):\n",
        "\t\t\t\tfor j in range (1,len(sequence1)+1):\n",
        "\t\t\t\t\t\tdiagonal_score=0\n",
        "\t\t\t\t\t\tleft_score=0\n",
        "\t\t\t\t\t\tup_score=0\n",
        "\t\t\t\t\t\t# calculate match/mismatch score, for blosum62 the condition does not apply\n",
        "\t\t\t\t\t\tletter1 = sequence1[j-1:j]\n",
        "\t\t\t\t\t\tletter2 = sequence2[i-1:i]        \n",
        "\t\t\t\t\t\tif (letter1 == letter2):\n",
        "\t\t\t\t\t\t\t\tdiagonal_score = score_matrix[i-1][j-1] + BLOSUM62[letter1][letter2]\n",
        "\t\t\t\t\t\t\t\t#diagonal_score = score_matrix[i-1][j-1] + MATCH\n",
        "\t\t\t\t\t\telse:\n",
        "\t\t\t\t\t\t\t\tdiagonal_score = score_matrix[i-1][j-1] + BLOSUM62[letter1][letter2]\n",
        "\t\t\t\t\t\t\t\t#diagonal_score = score_matrix[i-1][j-1] + MISMATCH\n",
        "\t\t\t\t\t\t# calculate gap scores\n",
        "\t\t\t\t\t\t# only apply gap-creation penalty if previously found a match, otherwise it is an gap-extension\n",
        "\t\t\t\t\t\tif (trace_matrix[i-1][j] == \"D\"):\n",
        "\t\t\t\t\t\t\t\tup_score   = score_matrix[i-1][j] + GAP\n",
        "\t\t\t\t\t\tif (trace_matrix[i][j-1] == \"D\"):\n",
        "\t\t\t\t\t\t\t\tleft_score = score_matrix[i][j-1] + GAP\n",
        "\t\t\t\t\t\t# choose best score\n",
        "\t\t\t\t\t\tif (diagonal_score >= up_score):\n",
        "\t\t\t\t\t\t\t\tif (diagonal_score >= left_score):\n",
        "\t\t\t\t\t\t\t\t\t\tscore_matrix[i][j] = diagonal_score\n",
        "\t\t\t\t\t\t\t\t\t\ttrace_matrix[i][j] = \"D\"\n",
        "\t\t\t\t\t\t\t\telse:\n",
        "\t\t\t\t\t\t\t\t\t\tscore_matrix[i][j] = left_score\n",
        "\t\t\t\t\t\t\t\t\t\ttrace_matrix[i][j] = \"L\"\n",
        "\t\t\t\t\t\telse:\n",
        "\t\t\t\t\t\t\t\tif (up_score >= left_score):\n",
        "\t\t\t\t\t\t\t\t\t\tscore_matrix[i][j] = up_score\n",
        "\t\t\t\t\t\t\t\t\t\ttrace_matrix[i][j] = \"U\"\n",
        "\t\t\t\t\t\t\t\telse:\n",
        "\t\t\t\t\t\t\t\t\t\tscore_matrix[i][j] = left_score\n",
        "\t\t\t\t\t\t\t\t\t\ttrace_matrix[i][j] = \"L\"\n",
        "\t\t\t\t\t\t\t\t\t\t \n",
        "\t\tprint (\"\\n Score Matrix:\")\n",
        "\t\tprint (score_matrix)\n",
        "\t\tprint (\"\\n Trace Matrix:\")\n",
        "\t\tprint (trace_matrix)\n",
        "\t\talign1 = \"\"\n",
        "\t\talign2 = \"\"\n",
        "\t\ttracking = \"\"\n",
        "\t\tj = len(sequence1)\n",
        "\t\ti = len(sequence2)\n",
        "\t\t#print (\"Backtracking:\",end=\"\\n\")\n",
        "\t\ttracking_score = []\n",
        "\t\twhile trace_matrix[i][j] != \"N\":\n",
        "\t\t\t\ttracking = tracking + trace_matrix[i][j]\n",
        "\t\t\t\ttracking_score.append(score_matrix[i][j])\n",
        "\t\t\t\tif (trace_matrix[i][j] == \"D\"):\n",
        "\t\t\t\t\t\talign1 = align1 + sequence1[j-1:j]\n",
        "\t\t\t\t\t\talign2 = align2 + sequence2[i-1:i]\n",
        "\t\t\t\t\t\ti=i-1\n",
        "\t\t\t\t\t\tj=j-1\n",
        "\t\t\t\telif (trace_matrix[i][j] == \"L\"):\n",
        "\t\t\t\t\t\talign1 = align1 + sequence1[j-1:j]\n",
        "\t\t\t\t\t\talign2 = align2 + \"-\"\n",
        "\t\t\t\t\t\tj=j-1\n",
        "\t\t\t\telif (trace_matrix[i][j] == \"U\"):\n",
        "\t\t\t\t\t\talign1 = align1 + \"-\"\n",
        "\t\t\t\t\t\talign2 = align2 + sequence2[i-1:i]\n",
        "\t\t\t\t\t\ti=i-1\n",
        "\t\tprint (\"\\n\\n\\n\\n\")\n",
        "\t\tprint (\"Scoring - Backtrace - Alignment:\",end=\"\\n\")\n",
        "\t\talign1 = align1[::-1]\n",
        "\t\talign2 = align2[::-1]\n",
        "\t\ttracking = tracking[::-1]\n",
        "\t\tprint (list(reversed(tracking_score)))\n",
        "\t\tprint (tracking)\n",
        "\t\tprint (align1)\n",
        "\t\tprint (align2)                \n",
        "\t\tprint (\" score:\",score_matrix[len(sequence2)][len(sequence1)])\n",
        "\t\tx_ax.append(score_matrix[len(sequence2)][len(sequence1)])"
      ],
      "execution_count": 7,
      "outputs": [
        {
          "output_type": "stream",
          "text": [
            "Alignment: 1\n",
            "NALWVAYMA\n",
            "QALVAYA\n",
            "\n",
            "Alignment Needleman-Wunsch... \n",
            " Score Matrix:\n",
            "[[  0.  -6. -12. -18. -24. -30. -36. -42. -48. -54.]\n",
            " [ -6.   0.   0.   0.   0.   0.   0.   0.   0.   0.]\n",
            " [-12.   0.   4.   0.   0.   0.   4.   0.   0.   4.]\n",
            " [-18.   0.   0.   8.   2.   1.  -1.   3.   2.  -1.]\n",
            " [-24.   0.   0.   3.   5.   6.   0.   0.   1.   0.]\n",
            " [-30.   0.   4.  -1.   0.   5.  10.   4.   0.   5.]\n",
            " [-36.   0.   0.   3.   1.  -1.   4.  17.  11.   0.]\n",
            " [-42.   0.   4.  -1.   0.   1.   3.  11.  16.  15.]]\n",
            "\n",
            " Trace Matrix:\n",
            "[['N' 'L' 'L' 'L' 'L' 'L' 'L' 'L' 'L' 'L']\n",
            " ['U' 'D' 'U' 'U' 'U' 'U' 'U' 'U' 'U' 'U']\n",
            " ['U' 'L' 'D' 'U' 'U' 'D' 'D' 'U' 'U' 'D']\n",
            " ['U' 'U' 'L' 'D' 'L' 'D' 'D' 'D' 'D' 'D']\n",
            " ['U' 'U' 'U' 'D' 'D' 'D' 'L' 'L' 'D' 'D']\n",
            " ['U' 'U' 'D' 'D' 'D' 'D' 'D' 'L' 'L' 'D']\n",
            " ['U' 'U' 'L' 'D' 'D' 'D' 'U' 'D' 'L' 'L']\n",
            " ['U' 'U' 'D' 'D' 'D' 'D' 'D' 'U' 'D' 'D']]\n",
            "\n",
            "\n",
            "\n",
            "\n",
            "\n",
            "Scoring - Backtrace - Alignment:\n",
            "[0.0, 4.0, 8.0, 2.0, 6.0, 10.0, 17.0, 11.0, 15.0]\n",
            "DDDLDDDLD\n",
            "NALWVAYMA\n",
            "QAL-VAY-A\n",
            " score: 15.0\n"
          ],
          "name": "stdout"
        }
      ]
    },
    {
      "metadata": {
        "id": "-EFgSZ2I4HEw",
        "colab_type": "code",
        "colab": {}
      },
      "cell_type": "code",
      "source": [
        ""
      ],
      "execution_count": 0,
      "outputs": []
    }
  ]
}